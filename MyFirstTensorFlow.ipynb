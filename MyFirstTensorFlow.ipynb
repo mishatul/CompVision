{
 "cells": [
  {
   "cell_type": "code",
   "execution_count": 7,
   "id": "4a0b4928",
   "metadata": {},
   "outputs": [],
   "source": [
    "# Tensorflow is Deep Learning Package\n",
    "import tensorflow as tf\n",
    "# Keras is based on Tensorflow & Its High End API\n",
    "import tensorflow.keras as keras\n"
   ]
  },
  {
   "cell_type": "code",
   "execution_count": 8,
   "id": "37cd1fb6",
   "metadata": {},
   "outputs": [
    {
     "name": "stdout",
     "output_type": "stream",
     "text": [
      "tf.Tensor(127, shape=(), dtype=int64)\n"
     ]
    },
    {
     "data": {
      "text/plain": [
       "TensorShape([])"
      ]
     },
     "execution_count": 8,
     "metadata": {},
     "output_type": "execute_result"
    }
   ],
   "source": [
    "# scalar with tensor rank = 0 , shape = 0, dtype = int32 Bits\n",
    "tf.constant(10)\n",
    "\n",
    "# scalar with tensor rank = 0 , shape = 0, \n",
    "const_1 = tf.constant(127, dtype = 'int64')\n",
    "print(const_1)\n",
    "\n",
    "const_1.numpy()\n",
    "\n",
    "const_1.shape\n"
   ]
  },
  {
   "cell_type": "code",
   "execution_count": 9,
   "id": "7c650cad",
   "metadata": {},
   "outputs": [
    {
     "name": "stdout",
     "output_type": "stream",
     "text": [
      "tf.Tensor([20. 40. 60. 80. 15. 17.], shape=(6,), dtype=float16)\n",
      "tf.Tensor([220 240 260 280 115 217], shape=(6,), dtype=int16)\n"
     ]
    },
    {
     "data": {
      "text/plain": [
       "array([220, 240, 260, 280, 115, 217], dtype=int16)"
      ]
     },
     "execution_count": 9,
     "metadata": {},
     "output_type": "execute_result"
    }
   ],
   "source": [
    "# Vectors\n",
    "# Vector with Rank = 1\n",
    "const_2 = tf.constant([20.,40.,60.,80.,15.,17.], dtype = 'float16')\n",
    "print(const_2)\n",
    "\n",
    "const_2 = tf.constant([220, 240, 260, 280, 115, 217], dtype = 'int16')\n",
    "print(const_2)\n",
    "\n",
    "# rank = 1\n",
    "const_2.shape\n",
    "\n",
    "const_2.numpy()"
   ]
  },
  {
   "cell_type": "code",
   "execution_count": 11,
   "id": "13d3dea9",
   "metadata": {},
   "outputs": [
    {
     "name": "stdout",
     "output_type": "stream",
     "text": [
      "tf.Tensor(\n",
      "[[ 220  230  120]\n",
      " [ 310  431  321]\n",
      " [ 120  130 1320]], shape=(3, 3), dtype=int16)\n"
     ]
    },
    {
     "data": {
      "text/plain": [
       "array([[ 220,  230,  120],\n",
       "       [ 310,  431,  321],\n",
       "       [ 120,  130, 1320]], dtype=int16)"
      ]
     },
     "execution_count": 11,
     "metadata": {},
     "output_type": "execute_result"
    }
   ],
   "source": [
    "# Matrix\n",
    "\n",
    "# Vector with Rank = 2\n",
    "const_3 = tf.constant([[220, 230, 120],\n",
    "                      [310, 431, 321],\n",
    "                      [120, 130, 1320]], dtype = 'int16')\n",
    "\n",
    "print(const_3)\n",
    "\n",
    "const_3.numpy()\n"
   ]
  },
  {
   "cell_type": "code",
   "execution_count": 13,
   "id": "566142f8",
   "metadata": {},
   "outputs": [
    {
     "name": "stdout",
     "output_type": "stream",
     "text": [
      "tf.Tensor(\n",
      "[[[10 20 40]\n",
      "  [45 51 41]\n",
      "  [32 35 11]]\n",
      "\n",
      " [[13 21 41]\n",
      "  [41 52 42]\n",
      "  [31 36 23]]], shape=(2, 3, 3), dtype=int16)\n"
     ]
    }
   ],
   "source": [
    "# Tensor N-D Array\n",
    "\n",
    "const_4 = tf.constant([[[10, 20, 40],\n",
    "                       [45, 51, 41],\n",
    "                       [32, 35, 11]],\n",
    "                     [[13, 21, 41],\n",
    "                       [41, 52, 42],\n",
    "                       [31, 36, 23]]], dtype = 'int16')\n",
    "print(const_4)\n",
    "\n"
   ]
  },
  {
   "cell_type": "code",
   "execution_count": 14,
   "id": "ca4901b8",
   "metadata": {},
   "outputs": [
    {
     "name": "stdout",
     "output_type": "stream",
     "text": [
      "<tf.Variable 'Variable:0' shape=() dtype=int8, numpy=0>\n",
      "<tf.Variable 'Variable:0' shape=(6,) dtype=float16, numpy=array([ 2.,  4.,  6.,  8., 15., 17.], dtype=float16)>\n",
      "<tf.Variable 'Variable:0' shape=(3, 3) dtype=int16, numpy=\n",
      "array([[ 220,  230,  120],\n",
      "       [ 310,  431,  321],\n",
      "       [ 120,  130, 1320]], dtype=int16)>\n"
     ]
    }
   ],
   "source": [
    "var_1 = tf.Variable(0, dtype = 'int8')\n",
    "print(var_1)\n",
    "\n",
    "# Variable Vector with Rank = 1\n",
    "var_2 = tf.Variable([2.,4.,6.,8.,15.,17.], dtype = 'float16')\n",
    "print(var_2)\n",
    "\n",
    "# Vector with Rank = 2\n",
    "var_3 = tf.Variable([[220, 230, 120],\n",
    "                     [310, 431, 321],\n",
    "                     [120, 130, 1320]], dtype = 'int16')\n",
    "print(var_3)"
   ]
  },
  {
   "cell_type": "code",
   "execution_count": 17,
   "id": "2a25a2bb",
   "metadata": {},
   "outputs": [
    {
     "name": "stdout",
     "output_type": "stream",
     "text": [
      "<tf.Variable 'Variable:0' shape=(6, 1) dtype=float16, numpy=\n",
      "array([[10.],\n",
      "       [12.],\n",
      "       [16.],\n",
      "       [19.],\n",
      "       [ 9.],\n",
      "       [11.]], dtype=float16)>\n"
     ]
    }
   ],
   "source": [
    "#### Mathematical Operations\n",
    "# Y = f(WT * X + bias)\n",
    "\n",
    "# Y = f(WT * X + bias)\n",
    "Weights = tf.Variable([[10],\n",
    "                       [12],\n",
    "                       [16],\n",
    "                       [19],\n",
    "                       [9],\n",
    "                       [11]], dtype = 'float16')\n",
    "print(Weights)\n"
   ]
  },
  {
   "cell_type": "code",
   "execution_count": 18,
   "id": "2926e9ab",
   "metadata": {},
   "outputs": [
    {
     "name": "stdout",
     "output_type": "stream",
     "text": [
      "tf.Tensor(\n",
      "[[20.]\n",
      " [25.]\n",
      " [19.]\n",
      " [11.]\n",
      " [15.]\n",
      " [21.]], shape=(6, 1), dtype=float16)\n"
     ]
    }
   ],
   "source": [
    "# Y = WT * X + bias\n",
    "X = tf.constant([[20],\n",
    "                 [25],\n",
    "                 [19],\n",
    "                 [11],\n",
    "                 [15],\n",
    "                 [21]], dtype = 'float16')\n",
    "print(X)\n"
   ]
  },
  {
   "cell_type": "code",
   "execution_count": 19,
   "id": "fd6de246",
   "metadata": {},
   "outputs": [],
   "source": [
    "WT = tf.transpose(Weights)"
   ]
  },
  {
   "cell_type": "code",
   "execution_count": 21,
   "id": "9aafe6bc",
   "metadata": {},
   "outputs": [
    {
     "name": "stdout",
     "output_type": "stream",
     "text": [
      "tf.Tensor([[10. 12. 16. 19.  9. 11.]], shape=(1, 6), dtype=float16)\n"
     ]
    }
   ],
   "source": [
    "print(WT)"
   ]
  },
  {
   "cell_type": "code",
   "execution_count": 25,
   "id": "76c11230",
   "metadata": {},
   "outputs": [
    {
     "data": {
      "text/plain": [
       "<tf.Tensor: shape=(6, 6), dtype=float16, numpy=\n",
       "array([[200., 240., 320., 380., 180., 220.],\n",
       "       [250., 300., 400., 475., 225., 275.],\n",
       "       [190., 228., 304., 361., 171., 209.],\n",
       "       [110., 132., 176., 209.,  99., 121.],\n",
       "       [150., 180., 240., 285., 135., 165.],\n",
       "       [210., 252., 336., 399., 189., 231.]], dtype=float16)>"
      ]
     },
     "execution_count": 25,
     "metadata": {},
     "output_type": "execute_result"
    }
   ],
   "source": [
    "# Y = X * W\n",
    "tf.tensordot(X, WT, axes=1)\n",
    "\n"
   ]
  },
  {
   "cell_type": "code",
   "execution_count": 26,
   "id": "1bb2be42",
   "metadata": {},
   "outputs": [
    {
     "data": {
      "text/plain": [
       "<tf.Tensor: shape=(1, 1), dtype=float16, numpy=array([[1379.]], dtype=float16)>"
      ]
     },
     "execution_count": 26,
     "metadata": {},
     "output_type": "execute_result"
    }
   ],
   "source": [
    "tf.tensordot(WT, X, axes=1)\n"
   ]
  },
  {
   "cell_type": "code",
   "execution_count": 28,
   "id": "9094dabf",
   "metadata": {},
   "outputs": [
    {
     "data": {
      "text/plain": [
       "'2.9.0'"
      ]
     },
     "execution_count": 28,
     "metadata": {},
     "output_type": "execute_result"
    }
   ],
   "source": [
    "import tensorflow.keras as Keras\n",
    "keras.__version__"
   ]
  },
  {
   "cell_type": "code",
   "execution_count": 29,
   "id": "6f3825e3",
   "metadata": {},
   "outputs": [],
   "source": [
    "# Dense Neural Network\n",
    "from tensorflow.keras.layers import Dense\n",
    "# Sequential Connection with Neural Network\n",
    "from tensorflow.keras.models import Sequential\n",
    "# Optimizers for Regression Model\n",
    "from tensorflow.keras.optimizers import RMSprop\n"
   ]
  },
  {
   "cell_type": "code",
   "execution_count": 33,
   "id": "2c46f580",
   "metadata": {},
   "outputs": [],
   "source": [
    "def build_model():\n",
    "    # Sequential Neural Network - FeedForward Neural Network\n",
    "    model = Sequential()\n",
    "    # units = Number of Neurons (2 * pow(n)), input_shape = Num of Features\n",
    "    model.add(Dense(units = 16, activation = 'relu', input_shape = [5]))\n",
    "    # Hidden Layer - I\n",
    "    model.add(Dense(units = 32, activation = 'relu'))\n",
    "    # Hidden Layer - II\n",
    "    model.add(Dense(units = 64, activation = 'relu'))\n",
    "    # Output Layer\n",
    "    model.add(Dense(units = 1))\n",
    "    # Model Compiler\n",
    "    model.compile(loss = 'mean_squared_error', optimizer = 'RMSprop', metrics = ['mean_squared_error',\n",
    "                                                                                 'mean_absolute_error'])\n",
    "    \n",
    "    return model\n"
   ]
  },
  {
   "cell_type": "code",
   "execution_count": 34,
   "id": "4644f910",
   "metadata": {},
   "outputs": [
    {
     "name": "stdout",
     "output_type": "stream",
     "text": [
      "Model: \"sequential_2\"\n",
      "_________________________________________________________________\n",
      " Layer (type)                Output Shape              Param #   \n",
      "=================================================================\n",
      " dense_4 (Dense)             (None, 16)                96        \n",
      "                                                                 \n",
      " dense_5 (Dense)             (None, 32)                544       \n",
      "                                                                 \n",
      " dense_6 (Dense)             (None, 64)                2112      \n",
      "                                                                 \n",
      " dense_7 (Dense)             (None, 1)                 65        \n",
      "                                                                 \n",
      "=================================================================\n",
      "Total params: 2,817\n",
      "Trainable params: 2,817\n",
      "Non-trainable params: 0\n",
      "_________________________________________________________________\n"
     ]
    }
   ],
   "source": [
    "model = build_model()\n",
    "\n",
    "model.summary()\n"
   ]
  },
  {
   "cell_type": "code",
   "execution_count": null,
   "id": "0f0ea0d1",
   "metadata": {},
   "outputs": [],
   "source": []
  },
  {
   "cell_type": "code",
   "execution_count": null,
   "id": "e25062c4",
   "metadata": {},
   "outputs": [],
   "source": []
  }
 ],
 "metadata": {
  "kernelspec": {
   "display_name": "Python 3 (ipykernel)",
   "language": "python",
   "name": "python3"
  },
  "language_info": {
   "codemirror_mode": {
    "name": "ipython",
    "version": 3
   },
   "file_extension": ".py",
   "mimetype": "text/x-python",
   "name": "python",
   "nbconvert_exporter": "python",
   "pygments_lexer": "ipython3",
   "version": "3.9.12"
  }
 },
 "nbformat": 4,
 "nbformat_minor": 5
}
